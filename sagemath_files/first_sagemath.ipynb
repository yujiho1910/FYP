{
 "cells": [
  {
   "cell_type": "markdown",
   "id": "f22c252a-9735-4751-8baa-935d9e1a22c5",
   "metadata": {},
   "source": [
    "# A new family of biregular graphs with three distinct eigenvalues\n",
    "\n",
    "- From \"The coherent rank of a graph with three eigenvalues\", Gary Greaves, Jose Yip"
   ]
  },
  {
   "cell_type": "code",
   "execution_count": 9,
   "id": "db78a029-10f6-403d-a6db-f3b6095bbb33",
   "metadata": {},
   "outputs": [
    {
     "data": {
      "text/html": [
       "<html>\\(\\displaystyle \\left(\\frac{1}{2} \\, n - \\frac{\\sqrt{{\\left(2 \\, m - n\\right)} {\\left(2 \\, m - n - 2\\right)} {\\left(n + 2\\right)} n}}{2 \\, {\\left(2 \\, m - n - 2\\right)}}, \\frac{1}{2} \\, n + \\frac{\\sqrt{{\\left(2 \\, m - n\\right)} {\\left(2 \\, m - n - 2\\right)} {\\left(n + 2\\right)} n}}{2 \\, {\\left(2 \\, m - n - 2\\right)}}\\right)\\)</html>"
      ],
      "text/latex": [
       "$\\displaystyle \\left(\\frac{1}{2} \\, n - \\frac{\\sqrt{{\\left(2 \\, m - n\\right)} {\\left(2 \\, m - n - 2\\right)} {\\left(n + 2\\right)} n}}{2 \\, {\\left(2 \\, m - n - 2\\right)}}, \\frac{1}{2} \\, n + \\frac{\\sqrt{{\\left(2 \\, m - n\\right)} {\\left(2 \\, m - n - 2\\right)} {\\left(n + 2\\right)} n}}{2 \\, {\\left(2 \\, m - n - 2\\right)}}\\right)$"
      ],
      "text/plain": [
       "(1/2*n - 1/2*sqrt((2*m - n)*(2*m - n - 2)*(n + 2)*n)/(2*m - n - 2),\n",
       " 1/2*n + 1/2*sqrt((2*m - n)*(2*m - n - 2)*(n + 2)*n)/(2*m - n - 2))"
      ]
     },
     "metadata": {},
     "output_type": "display_data"
    }
   ],
   "source": [
    "# Importing necessary modules\n",
    "var('n m N')  # Declare n, m, and N as symbolic variables\n",
    "\n",
    "# Defining the discriminant part under the square root\n",
    "discriminant = sqrt((n - 2*m)*(n - 2*m + 2)*(n + 2)*n)\n",
    "\n",
    "# Defining the full expression for N based on the lemma\n",
    "N_formula = (n/2) + discriminant/(2*(n - 2*m + 2)), (n/2) - discriminant/(2*(n - 2*m + 2))\n",
    "\n",
    "# Display the formula for N\n",
    "show(N_formula)"
   ]
  },
  {
   "cell_type": "markdown",
   "id": "d9493bbb-a5f7-47d0-9e3e-88f5ebe30c20",
   "metadata": {},
   "source": [
    "## The above values have to be an integer for the graph to have 3 distinct eigenvalues"
   ]
  },
  {
   "cell_type": "code",
   "execution_count": null,
   "id": "8a57e98d-1bb5-4345-95d4-383059b002af",
   "metadata": {},
   "outputs": [],
   "source": [
    "# Optionally, you can define inequalities for m and N\n",
    "m_constraint = 2 <= m <= n + 1\n",
    "N_constraint = 1 <= N <= n - 1\n",
    "\n",
    "# Display the constraints\n",
    "show(m_constraint)\n",
    "show(N_constraint)"
   ]
  }
 ],
 "metadata": {
  "kernelspec": {
   "display_name": "SageMath 10.4",
   "language": "sage",
   "name": "sagemath-10.4"
  },
  "language_info": {
   "codemirror_mode": {
    "name": "ipython",
    "version": 3
   },
   "file_extension": ".py",
   "mimetype": "text/x-python",
   "name": "python",
   "nbconvert_exporter": "python",
   "pygments_lexer": "ipython3",
   "version": "3.12.4"
  }
 },
 "nbformat": 4,
 "nbformat_minor": 5
}
